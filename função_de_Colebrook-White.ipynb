{
  "nbformat": 4,
  "nbformat_minor": 0,
  "metadata": {
    "colab": {
      "provenance": [],
      "authorship_tag": "ABX9TyPAmdahPx0gKbV5yaonpQgO",
      "include_colab_link": true
    },
    "kernelspec": {
      "name": "python3",
      "display_name": "Python 3"
    },
    "language_info": {
      "name": "python"
    }
  },
  "cells": [
    {
      "cell_type": "markdown",
      "metadata": {
        "id": "view-in-github",
        "colab_type": "text"
      },
      "source": [
        "<a href=\"https://colab.research.google.com/github/svfabi/Fabiano/blob/master/fun%C3%A7%C3%A3o_de_Colebrook-White.ipynb\" target=\"_parent\"><img src=\"https://colab.research.google.com/assets/colab-badge.svg\" alt=\"Open In Colab\"/></a>"
      ]
    },
    {
      "cell_type": "code",
      "execution_count": null,
      "metadata": {
        "colab": {
          "base_uri": "https://localhost:8080/"
        },
        "id": "ZMRuz0MG1Zrb",
        "outputId": "2bc15411-d5e2-4de6-b220-08b7143dd6a5"
      },
      "outputs": [
        {
          "output_type": "stream",
          "name": "stdout",
          "text": [
            "Friction Factor: 0.03103721220099879\n"
          ]
        }
      ],
      "source": [
        "import scipy.optimize as opt\n",
        "import numpy as np\n",
        "\n",
        "# Definir a função de Colebrook-White\n",
        "def colebrook_white(Re, epsilon, D):\n",
        "    def cw_function(f):\n",
        "        return 1.0 / (f**0.5) + 2 * np.log10((epsilon/D)/3.7 + 2.51/(Re * f**0.5))\n",
        "\n",
        "    # Chute inicial para f\n",
        "    initial_guess = 0.02\n",
        "\n",
        "    # Resolver para f usando um algoritmo de busca de raízes\n",
        "    solution = opt.root_scalar(cw_function, bracket=[0.008, 0.08], method='brentq')\n",
        "\n",
        "    return solution.root\n",
        "\n",
        "# Exemplo de uso:\n",
        "Reynolds_number = 10000   # Substitua pelo número de Reynolds real\n",
        "roughness = 0.0001        # Substitua pela rugosidade real (epsilon)\n",
        "diameter = 1              # Substitua pelo diâmetro real (D)\n",
        "\n",
        "friction_factor = colebrook_white(Reynolds_number, roughness, diameter)\n",
        "print(\"Friction Factor:\", friction_factor)\n"
      ]
    }
  ]
}