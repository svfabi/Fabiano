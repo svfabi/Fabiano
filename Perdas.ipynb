{
  "nbformat": 4,
  "nbformat_minor": 0,
  "metadata": {
    "colab": {
      "provenance": [],
      "authorship_tag": "ABX9TyPRwyqXsJuQ4bdyj0/Giq4X",
      "include_colab_link": true
    },
    "kernelspec": {
      "name": "python3",
      "display_name": "Python 3"
    },
    "language_info": {
      "name": "python"
    }
  },
  "cells": [
    {
      "cell_type": "markdown",
      "metadata": {
        "id": "view-in-github",
        "colab_type": "text"
      },
      "source": [
        "<a href=\"https://colab.research.google.com/github/svfabi/Fabiano/blob/master/Perdas.ipynb\" target=\"_parent\"><img src=\"https://colab.research.google.com/assets/colab-badge.svg\" alt=\"Open In Colab\"/></a>"
      ]
    },
    {
      "cell_type": "code",
      "execution_count": 13,
      "metadata": {
        "colab": {
          "base_uri": "https://localhost:8080/"
        },
        "id": "Eeo7f3ysaiSa",
        "outputId": "bbb7d3b5-f654-4684-fd5b-04f635ca12b3"
      },
      "outputs": [
        {
          "output_type": "stream",
          "name": "stdout",
          "text": [
            "Para n = 10:\n",
            "Expressão original: 2.4516031797349056\n",
            "Expressão aproximada: 2.2986995589146773\n",
            "Erro relativo: 0.0623688295414766\n",
            "\n",
            "Para n = 50:\n",
            "Expressão original: 0.37190096615368395\n",
            "Expressão aproximada: 0.9954452602458581\n",
            "Erro relativo: 1.6766406942715535\n",
            "\n",
            "Para n = 100:\n",
            "Expressão original: -0.0622778759366508\n",
            "Expressão aproximada: -0.5639820965916232\n",
            "Erro relativo: 8.055898071496644\n",
            "\n",
            "Para n = 500:\n",
            "Expressão original: -0.2956781968494628\n",
            "Expressão aproximada: 4.862433382162805\n",
            "Erro relativo: 17.445018381380322\n",
            "\n",
            "Para n = 1000:\n",
            "Expressão original: 0.48926665576832595\n",
            "Expressão aproximada: 0.809025126290569\n",
            "Erro relativo: 0.653546418404717\n",
            "\n"
          ]
        }
      ],
      "source": [
        "import numpy as np\n",
        "\n",
        "def simulate_equality(n):\n",
        "    # Gerar vetores aleatórios de tamanho n\n",
        "    x = np.random.rand(n)\n",
        "    y = np.random.rand(n)\n",
        "    z = np.random.rand(n)\n",
        "    w = np.random.rand(n)\n",
        "    t = np.random.rand(n)\n",
        "    u = np.random.rand(n)\n",
        "    q = np.random.rand(n)\n",
        "    v = np.random.rand(n)\n",
        "\n",
        "    # Calcular as somas dos produtos\n",
        "    sum_xy = np.sum(x * y)\n",
        "    sum_zw = np.sum(z * w)\n",
        "    sum_tu = np.sum(t * u)\n",
        "    sum_qv = np.sum(q * v)\n",
        "\n",
        "    # Calcular as somas individuais\n",
        "    sum_x = np.sum(x)\n",
        "    sum_y = np.sum(y)\n",
        "    sum_z = np.sum(z)\n",
        "    sum_w = np.sum(w)\n",
        "    sum_t = np.sum(t)\n",
        "    sum_u = np.sum(u)\n",
        "    sum_q = np.sum(q)\n",
        "    sum_v = np.sum(v)\n",
        "\n",
        "    # Calcular a expressão original e a expressão aproximada\n",
        "    original_expression = (sum_xy - sum_zw) / (sum_tu - sum_qv)\n",
        "    approx_expression = ((sum_x * sum_y) - (sum_z * sum_w)) / ((sum_t * sum_u) - (sum_q * sum_v))\n",
        "\n",
        "    return original_expression, approx_expression\n",
        "\n",
        "# Testar a função com diferentes tamanhos de vetores\n",
        "for n in [10, 50, 100, 500, 1000]:\n",
        "    original, approx = simulate_equality(n)\n",
        "    print(f\"Para n = {n}:\")\n",
        "    print(f\"Expressão original: {original}\")\n",
        "    print(f\"Expressão aproximada: {approx}\")\n",
        "    print(f\"Erro relativo: {abs(original - approx) / abs(original)}\\n\")\n"
      ]
    },
    {
      "cell_type": "code",
      "source": [
        "import numpy as np\n",
        "\n",
        "# Definindo os vetores com os valores fornecidos\n",
        "x = np.array([2, 3, 4])\n",
        "y = np.array([5, 6, 7])\n",
        "z = np.array([1, 50, 3])\n",
        "w = np.array([4, 5, 6])\n",
        "t = np.array([2, 3, 4])\n",
        "u = np.array([1, 2, 3])\n",
        "q = np.array([3, 10, 5])\n",
        "v = np.array([2, 3, 4])\n",
        "\n",
        "n=3\n",
        "x = np.random.rand(n)\n",
        "y = np.random.rand(n)\n",
        "z = np.random.rand(n)\n",
        "w = np.random.rand(n)\n",
        "t = np.random.rand(n)\n",
        "u = np.random.rand(n)\n",
        "q = np.random.rand(n)\n",
        "v = np.random.rand(n)\n",
        "\n",
        "# Calculando as somas dos produtos\n",
        "sum_xy = np.sum(x * y)\n",
        "sum_zw = np.sum(z * w)\n",
        "sum_tu = np.sum(t * u)\n",
        "sum_qv = np.sum(q * v)\n",
        "\n",
        "# Calculando as somas individuais\n",
        "sum_x = np.sum(x)\n",
        "sum_y = np.sum(y)\n",
        "sum_z = np.sum(z)\n",
        "sum_w = np.sum(w)\n",
        "sum_t = np.sum(t)\n",
        "sum_u = np.sum(u)\n",
        "sum_q = np.sum(q)\n",
        "sum_v = np.sum(v)\n",
        "\n",
        "# Calculando a expressão original e a expressão aproximada\n",
        "original_expression = (sum_xy - sum_zw) / (sum_tu - sum_qv)\n",
        "approx_expression = ((sum_x * sum_y) - (sum_z * sum_w)) / ((sum_t * sum_u) - (sum_q * sum_v))\n",
        "\n",
        "print(f\"Expressão original: {original_expression}\")\n",
        "print(f\"Expressão aproximada: {approx_expression}\")\n",
        "print(f\"Erro relativo: {abs(original_expression - approx_expression) / abs(original_expression)}\")\n"
      ],
      "metadata": {
        "colab": {
          "base_uri": "https://localhost:8080/"
        },
        "id": "cb4YcPLPdKg8",
        "outputId": "082759c9-9986-4f24-c6f0-4798dc7c8722"
      },
      "execution_count": 12,
      "outputs": [
        {
          "output_type": "stream",
          "name": "stdout",
          "text": [
            "Expressão original: -0.045692493745651236\n",
            "Expressão aproximada: -0.08033500336990905\n",
            "Erro relativo: 0.7581663153929938\n"
          ]
        }
      ]
    }
  ]
}